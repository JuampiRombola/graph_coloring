{
 "cells": [
  {
   "cell_type": "markdown",
   "metadata": {},
   "source": [
    "# Finger 3: Graph Coloring"
   ]
  },
  {
   "cell_type": "markdown",
   "metadata": {},
   "source": [
    "#### Alumno: Juan Pablo Rombolá"
   ]
  },
  {
   "cell_type": "code",
   "execution_count": 5,
   "metadata": {
    "collapsed": true
   },
   "outputs": [],
   "source": [
    "# Algoritmo de tipo Greedy\n",
    "nombre_archivo = \"gc_100_1\"\n",
    "\n",
    "entrada = sc.textFile(nombre_archivo + \".txt\", 8)\n",
    "header = entrada.take(1)[0]\n",
    "cantidad_vertices = int(header.split()[0])\n",
    "\n",
    "nodo_adyacentes = entrada.filter(lambda  line: line != header)\\\n",
    "                        .map(lambda line: (int(line.split()[0]), [int(line.split()[1])]))\\\n",
    "                        .reduceByKey(lambda a,b: a + b)\\\n",
    "                        .sortBy(lambda a: -a[0])\\\n",
    "                        .collect()\n",
    "                \n",
    "resultado = [0] * cantidad_vertices\n",
    "for par in nodo_adyacentes:\n",
    "    color_actual = sc.parallelize(par[1], 8)\\\n",
    "                    .reduce(lambda a,b : a if resultado[a] > resultado[b] else b)\n",
    "    resultado[par[0]] = resultado[color_actual] + 1"
   ]
  },
  {
   "cell_type": "code",
   "execution_count": 6,
   "metadata": {
    "collapsed": true
   },
   "outputs": [],
   "source": [
    "# Salida\n",
    "dir_salida = nombre_archivo + \"_resultado.txt\"\n",
    "with open(dir_salida, \"w\") as outfile:\n",
    "    outfile.write( str(max(resultado) + 1) + \"\\n\" )\n",
    "    for i in range(cantidad_vertices):\n",
    "        if i == (cantidad_vertices - 1):\n",
    "            outfile.write( str(resultado[i]) )\n",
    "        else:\n",
    "            outfile.write( str(resultado[i]) + \"\\n\" )"
   ]
  },
  {
   "cell_type": "code",
   "execution_count": 8,
   "metadata": {
    "collapsed": false
   },
   "outputs": [
    {
     "name": "stdout",
     "output_type": "stream",
     "text": [
      "Bien coloreado\n"
     ]
    }
   ],
   "source": [
    "# Verificación de color          \n",
    "entrada = sc.textFile(nombre_archivo + \"_resultado.txt\")\n",
    "header = entrada.take(1)[0]\n",
    "resultado = entrada.filter(lambda  line: line != header)\\\n",
    "                .map(lambda line: int(line)).collect()\n",
    "\n",
    "for par in nodo_adyacentes:\n",
    "    for i in par[1]:\n",
    "        if resultado[par[0]] == resultado[i]:\n",
    "            print \"Mal coloreado\"\n",
    "print \"Bien coloreado\""
   ]
  }
 ],
 "metadata": {
  "kernelspec": {
   "display_name": "pySpark",
   "language": "python",
   "name": "pyspark"
  },
  "language_info": {
   "codemirror_mode": {
    "name": "ipython",
    "version": 2
   },
   "file_extension": ".py",
   "mimetype": "text/x-python",
   "name": "python",
   "nbconvert_exporter": "python",
   "pygments_lexer": "ipython2",
   "version": "2.7.12"
  }
 },
 "nbformat": 4,
 "nbformat_minor": 1
}
